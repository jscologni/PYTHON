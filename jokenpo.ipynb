{
  "nbformat": 4,
  "nbformat_minor": 0,
  "metadata": {
    "colab": {
      "provenance": [],
      "collapsed_sections": [],
      "authorship_tag": "ABX9TyPi23DQlLXl2hEmHqlj0j5A",
      "include_colab_link": true
    },
    "kernelspec": {
      "name": "python3",
      "display_name": "Python 3"
    },
    "language_info": {
      "name": "python"
    }
  },
  "cells": [
    {
      "cell_type": "markdown",
      "metadata": {
        "id": "view-in-github",
        "colab_type": "text"
      },
      "source": [
        "<a href=\"https://colab.research.google.com/github/jscologni/PYTHON/blob/main/jokenpo.ipynb\" target=\"_parent\"><img src=\"https://colab.research.google.com/assets/colab-badge.svg\" alt=\"Open In Colab\"/></a>"
      ]
    },
    {
      "cell_type": "code",
      "execution_count": 30,
      "metadata": {
        "colab": {
          "base_uri": "https://localhost:8080/"
        },
        "id": "v_wiQrrhWg76",
        "outputId": "c19ea848-74e5-40c6-f816-792df6f36fff"
      },
      "outputs": [
        {
          "output_type": "stream",
          "name": "stdout",
          "text": [
            "SUAS OPÇÕES:\n",
            "[0] PEDRA\n",
            "[1] PAPEL\n",
            "[2] TESOURA\n",
            "Qual sua Jogada: 0\n",
            "JO\n",
            "KEN\n",
            "PO!!\n",
            "-=-=-=-=-=-=-=-=-=-=-=-=-=-=-=-=-=\n",
            "O computador escolheu pedra\n",
            "O jogador escolheu pedra\n",
            "-=-=-=-=-=-=-=-=-=-=-=-=-=-=-=-=-=\n",
            "EMPATE\n"
          ]
        }
      ],
      "source": [
        "from random import randint\n",
        "from time import sleep\n",
        "itens = ('pedra', 'papel', 'tesoura')\n",
        "computador = randint(0,2)\n",
        "print('''SUAS OPÇÕES:\n",
        "[0] PEDRA\n",
        "[1] PAPEL\n",
        "[2] TESOURA''')\n",
        "jogador = int(input('Qual sua Jogada: '))\n",
        "print('JO')\n",
        "sleep(1)\n",
        "print('KEN')\n",
        "sleep(1)\n",
        "print('PO!!')\n",
        "sleep(1)\n",
        "print('-=' * 17)\n",
        "print('O computador escolheu {}'.format(itens[computador]))\n",
        "print('O jogador escolheu {}'.format(itens[jogador]))\n",
        "print('-=' * 17)\n",
        "if computador == 0:\n",
        "  if jogador == 0:\n",
        "    print('EMPATE')\n",
        "  elif jogador == 1:\n",
        "    print('JOGADOR VENCE')\n",
        "  elif jogador == 2:\n",
        "    print('COMPUTADOR VENCE')\n",
        "  else:\n",
        "    print('JOGADA INVALIDA')\n",
        "elif computador == 1:\n",
        "  if jogador == 0:\n",
        "    print('COMPUTADOR VENCE')\n",
        "  elif jogador == 1:\n",
        "    print('EMPATE')\n",
        "  elif jogador == 2:\n",
        "    print('JOGADOR VENCE')\n",
        "  else:\n",
        "    print('JOGADA INVALIDA')\n",
        "elif computador == 2:\n",
        "  if jogador == 0:\n",
        "    print('COMPUTADOR VENCE')\n",
        "  elif jogador == 1:\n",
        "    print('JOGADOR VENCE')\n",
        "  elif jogador == 2:\n",
        "    print('EMPATE')\n",
        "  else:\n",
        "    print('JOGADA INVALIDA')"
      ]
    }
  ]
}